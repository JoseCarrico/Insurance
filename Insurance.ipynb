{
 "cells": [
  {
   "cell_type": "code",
   "execution_count": 10,
   "id": "d9e75cfa",
   "metadata": {},
   "outputs": [],
   "source": [
    "import csv\n",
    "import pandas as pd\n",
    "import numpy as np\n",
    "import csv"
   ]
  },
  {
   "cell_type": "code",
   "execution_count": 1,
   "id": "28ed2087",
   "metadata": {
    "scrolled": false
   },
   "outputs": [
    {
     "ename": "NameError",
     "evalue": "name 'csv' is not defined",
     "output_type": "error",
     "traceback": [
      "\u001b[1;31m---------------------------------------------------------------------------\u001b[0m",
      "\u001b[1;31mNameError\u001b[0m                                 Traceback (most recent call last)",
      "\u001b[1;32m~\\AppData\\Local\\Temp\\ipykernel_6596\\3414739589.py\u001b[0m in \u001b[0;36m<module>\u001b[1;34m\u001b[0m\n\u001b[0;32m      1\u001b[0m \u001b[1;31m#Open the data in csv form so we can work with\u001b[0m\u001b[1;33m\u001b[0m\u001b[1;33m\u001b[0m\u001b[0m\n\u001b[0;32m      2\u001b[0m \u001b[1;32mwith\u001b[0m \u001b[0mopen\u001b[0m\u001b[1;33m(\u001b[0m\u001b[1;34m'insurance.csv'\u001b[0m\u001b[1;33m,\u001b[0m \u001b[0mnewline\u001b[0m\u001b[1;33m=\u001b[0m\u001b[1;34m''\u001b[0m\u001b[1;33m)\u001b[0m \u001b[1;32mas\u001b[0m \u001b[0mcsvfile\u001b[0m\u001b[1;33m:\u001b[0m\u001b[1;33m\u001b[0m\u001b[1;33m\u001b[0m\u001b[0m\n\u001b[1;32m----> 3\u001b[1;33m     \u001b[0mspamreader\u001b[0m \u001b[1;33m=\u001b[0m \u001b[0mcsv\u001b[0m\u001b[1;33m.\u001b[0m\u001b[0mreader\u001b[0m\u001b[1;33m(\u001b[0m\u001b[0mcsvfile\u001b[0m\u001b[1;33m,\u001b[0m \u001b[0mdelimiter\u001b[0m\u001b[1;33m=\u001b[0m\u001b[1;34m' '\u001b[0m\u001b[1;33m,\u001b[0m\u001b[0mquotechar\u001b[0m\u001b[1;33m=\u001b[0m\u001b[1;34m'|'\u001b[0m\u001b[1;33m)\u001b[0m\u001b[1;33m\u001b[0m\u001b[1;33m\u001b[0m\u001b[0m\n\u001b[0m\u001b[0;32m      4\u001b[0m     \u001b[1;32mfor\u001b[0m \u001b[0mrow\u001b[0m \u001b[1;32min\u001b[0m \u001b[0mspamreader\u001b[0m\u001b[1;33m:\u001b[0m\u001b[1;33m\u001b[0m\u001b[1;33m\u001b[0m\u001b[0m\n\u001b[0;32m      5\u001b[0m         \u001b[0mprint\u001b[0m\u001b[1;33m(\u001b[0m\u001b[1;34m', '\u001b[0m\u001b[1;33m.\u001b[0m\u001b[0mjoin\u001b[0m\u001b[1;33m(\u001b[0m\u001b[0mrow\u001b[0m\u001b[1;33m)\u001b[0m\u001b[1;33m)\u001b[0m\u001b[1;33m\u001b[0m\u001b[1;33m\u001b[0m\u001b[0m\n",
      "\u001b[1;31mNameError\u001b[0m: name 'csv' is not defined"
     ]
    }
   ],
   "source": [
    "#Open the data in csv form so we can work with\n",
    "with open('insurance.csv', newline='') as csvfile:\n",
    "    spamreader = csv.reader(csvfile, delimiter=' ',quotechar='|')\n",
    "    for row in spamreader:\n",
    "        print(', '.join(row))\n",
    "        "
   ]
  },
  {
   "cell_type": "code",
   "execution_count": 11,
   "id": "6a13ec74",
   "metadata": {},
   "outputs": [],
   "source": [
    "#Creating different empty lists to append the data\n",
    "ages = []\n",
    "sexes = []\n",
    "bmis = []\n",
    "num_children = []\n",
    "smoker_stats = []\n",
    "regions = []\n",
    "insurance_charges= []"
   ]
  },
  {
   "cell_type": "code",
   "execution_count": 13,
   "id": "85a3ae44",
   "metadata": {},
   "outputs": [],
   "source": [
    "#Add the data to the lists\n",
    "with open('insurance.csv', newline='') as csvreader:\n",
    "    reader = csv.DictReader(csvreader)\n",
    "    for row in reader:\n",
    "        ages.append(row['age'])\n",
    "        sexes.append(row['sex'])\n",
    "        bmis.append(row['bmi'])\n",
    "        num_children.append(row['children'])\n",
    "        smoker_stats.append(row['smoker'])\n",
    "        regions.append(row['region'])\n",
    "        insurance_charges.append(row['charges'])"
   ]
  },
  {
   "cell_type": "code",
   "execution_count": 15,
   "id": "5926f21f",
   "metadata": {},
   "outputs": [
    {
     "name": "stdout",
     "output_type": "stream",
     "text": [
      "In this experiment we have a total of 1338 observations.\n"
     ]
    }
   ],
   "source": [
    "#Calculate the total of observations/people\n",
    "num_group = len(ages)\n",
    "print('In this experiment we have a total of ' + str(num_group) + ' observations.')"
   ]
  },
  {
   "cell_type": "code",
   "execution_count": 19,
   "id": "e2375eb9",
   "metadata": {},
   "outputs": [],
   "source": [
    "#Create a function to calculate the average age\n",
    "def analise_idades(self):\n",
    "    soma_idade = 0\n",
    "    for idade in ages:\n",
    "        soma_idade += int(idade)\n",
    "    media_idades = soma_idade / len(ages)\n",
    "    return(\"The average age is \" + str(round(media_idades,1)) + \" years.\")\n",
    "\n"
   ]
  },
  {
   "cell_type": "code",
   "execution_count": 20,
   "id": "3248d66e",
   "metadata": {
    "scrolled": true
   },
   "outputs": [
    {
     "data": {
      "text/plain": [
       "'The average age is 39.2 years.'"
      ]
     },
     "execution_count": 20,
     "metadata": {},
     "output_type": "execute_result"
    }
   ],
   "source": [
    "analise_idades(ages)"
   ]
  },
  {
   "cell_type": "code",
   "execution_count": 22,
   "id": "cccdcbd9",
   "metadata": {},
   "outputs": [],
   "source": [
    "#Create a function to calculate the average BMI\n",
    "def analise_bmi(bmis):\n",
    "    soma_bmi = 0\n",
    "    for peso in bmis:\n",
    "        soma_bmi += float(peso)\n",
    "    media_bmi = soma_bmi / len(bmis)\n",
    "    return(\"The average BMI is \" + str(round(media_bmi,2)) + \" kg.\")"
   ]
  },
  {
   "cell_type": "code",
   "execution_count": 23,
   "id": "5617c8f1",
   "metadata": {},
   "outputs": [
    {
     "data": {
      "text/plain": [
       "'The average BMI is 30.66 kg.'"
      ]
     },
     "execution_count": 23,
     "metadata": {},
     "output_type": "execute_result"
    }
   ],
   "source": [
    "analise_bmi(bmis)"
   ]
  },
  {
   "cell_type": "code",
   "execution_count": 24,
   "id": "0be87de9",
   "metadata": {},
   "outputs": [],
   "source": [
    "#Create a function to calculate number of womens and mens in the group\n",
    "def analise_sexos(sexes):\n",
    "    num_mulheres = 0\n",
    "    num_homens = 0\n",
    "    for i in sexes:\n",
    "        if i == 'female':\n",
    "            num_mulheres += 1\n",
    "        elif i == 'male':\n",
    "            num_homens += 1\n",
    "    return (\"In this group we have \" + str(num_mulheres) + \" womens e \" + str(num_homens) + \" mens\")"
   ]
  },
  {
   "cell_type": "code",
   "execution_count": 25,
   "id": "4f2bb073",
   "metadata": {},
   "outputs": [
    {
     "data": {
      "text/plain": [
       "'In this group we have 662 womens e 676 mens'"
      ]
     },
     "execution_count": 25,
     "metadata": {},
     "output_type": "execute_result"
    }
   ],
   "source": [
    "analise_sexos(sexes)"
   ]
  },
  {
   "cell_type": "code",
   "execution_count": 26,
   "id": "1c981b1a",
   "metadata": {},
   "outputs": [],
   "source": [
    "#Create a function to calculate the % of people who live in each region\n",
    "def analise_regiao(regions):\n",
    "    southwest = 0\n",
    "    southeast = 0\n",
    "    northwest = 0\n",
    "    northeast = 0\n",
    "    for i in regions:\n",
    "        if i == 'southwest':\n",
    "            southwest += 1\n",
    "        if i == 'southeast':\n",
    "            southeast += 1\n",
    "        if i == 'northwest':\n",
    "            northwest += 1\n",
    "        elif i == 'northeast':\n",
    "            northeast += 1\n",
    "    proporçao_sw = (southwest / num_group) * 100\n",
    "    proporçao_sh = (southeast / num_group) * 100\n",
    "    proporçao_nw = (northwest / num_group) * 100\n",
    "    proporçao_nh = (northeast / num_group) * 100\n",
    "    return (\"In the distribuition of individuals by region we have southwest with \" + str(round(proporçao_sw,2)) + \"%, southeast with \" + str(round(proporçao_sh,2)) + \"%, northwest with \" + str(round(proporçao_nw,2)) + \"%, northeast with \" + str(round(proporçao_nh,2))+ \"%.\")"
   ]
  },
  {
   "cell_type": "code",
   "execution_count": 27,
   "id": "94ec77e4",
   "metadata": {},
   "outputs": [
    {
     "data": {
      "text/plain": [
       "'In the distribuition of individuals by region we have southwest with 24.29%, southeast with 27.2%, northwest with 24.29%, northeast with 24.22%.'"
      ]
     },
     "execution_count": 27,
     "metadata": {},
     "output_type": "execute_result"
    }
   ],
   "source": [
    "analise_regiao(regions)"
   ]
  },
  {
   "cell_type": "code",
   "execution_count": 29,
   "id": "4d0641e5",
   "metadata": {},
   "outputs": [],
   "source": [
    "#Create a function to calculate the average health insurance\n",
    "def analise_seguro(self):\n",
    "    total_seguro = 0\n",
    "    for i in insurance_charges:\n",
    "        total_seguro += float(i)\n",
    "    media_seguro = total_seguro / num_group\n",
    "    \n",
    "    return(\"The average cost of the health insurance is \" + str(round(media_seguro,3)) + \"$\")"
   ]
  },
  {
   "cell_type": "code",
   "execution_count": 30,
   "id": "ff568f87",
   "metadata": {
    "scrolled": true
   },
   "outputs": [
    {
     "data": {
      "text/plain": [
       "'The average cost of the health insurance is 13270.422$'"
      ]
     },
     "execution_count": 30,
     "metadata": {},
     "output_type": "execute_result"
    }
   ],
   "source": [
    "analise_seguro(insurance_charges)"
   ]
  },
  {
   "cell_type": "code",
   "execution_count": 32,
   "id": "1d6d55b5",
   "metadata": {},
   "outputs": [],
   "source": [
    "#We are sorting the insurance charges list to see the minimum and the max values\n",
    "sorted_seguro = sorted(insurance_charges)\n",
    "\n",
    "seguro_maior = sorted_seguro.pop()\n",
    "seguro_menor = sorted_seguro[0]"
   ]
  },
  {
   "cell_type": "code",
   "execution_count": 35,
   "id": "45af417f",
   "metadata": {},
   "outputs": [
    {
     "name": "stdout",
     "output_type": "stream",
     "text": [
      "The health insurance with the lower value is 10043.249$ and the higher is 9991.03765$.\n"
     ]
    }
   ],
   "source": [
    "print(\"The health insurance with the lower value is \" + str(seguro_menor) + \"$ and the higher is \" + str(seguro_maior) + \"$.\")"
   ]
  },
  {
   "cell_type": "code",
   "execution_count": 37,
   "id": "a7f35cb6",
   "metadata": {},
   "outputs": [],
   "source": [
    "#Creating a 2D list to with the insurance_charges values of the womens and mens\n",
    "sexo_seguro_list = list(zip(sexes,insurance_charges))\n"
   ]
  },
  {
   "cell_type": "code",
   "execution_count": 38,
   "id": "70366459",
   "metadata": {},
   "outputs": [],
   "source": [
    "#Create a function to separete the in 2 lits, one for men and other for women\n",
    "homens_seguro = []\n",
    "mulheres_seguro = []\n",
    "for i in sexo_seguro_list:\n",
    "    for j in i:\n",
    "        if j == 'male':\n",
    "            homens_seguro.append(i)\n",
    "        elif j == 'female':\n",
    "            mulheres_seguro.append(i)"
   ]
  },
  {
   "cell_type": "code",
   "execution_count": 40,
   "id": "41664cc8",
   "metadata": {},
   "outputs": [],
   "source": [
    "#Create a function using the lists created above as parameters, to calculate the average health insurance cost for each sex\n",
    "def analise_sexo_seguro(matrix,i):\n",
    "    sexo_ind = [row[i] for row in matrix]\n",
    "    total = 0\n",
    "    for i in sexo_ind:\n",
    "        total += float(i)\n",
    "    media = total / num_group   \n",
    "    return(round(media,2))\n",
    "media_homens_seguro = analise_sexo_seguro(homens_seguro,1)\n",
    "media_mulheres_seguro = analise_sexo_seguro(mulheres_seguro,1)"
   ]
  },
  {
   "cell_type": "code",
   "execution_count": 41,
   "id": "65b00f02",
   "metadata": {
    "scrolled": false
   },
   "outputs": [
    {
     "name": "stdout",
     "output_type": "stream",
     "text": [
      "The average health insurance for men is 7051.39$ and for women is 6219.03$.\n"
     ]
    }
   ],
   "source": [
    "print(\"The average health insurance for men is \" + str(media_homens_seguro) + \"$ and for women is \" + str(media_mulheres_seguro) + \"$.\")"
   ]
  },
  {
   "cell_type": "code",
   "execution_count": 45,
   "id": "7fe2e16b",
   "metadata": {},
   "outputs": [],
   "source": [
    "#Creating a 2D list to with the insurance_charges values of either the individuals smokes or not\n",
    "fumador_seguro_list = list(zip(smoker_stats,insurance_charges))"
   ]
  },
  {
   "cell_type": "code",
   "execution_count": 46,
   "id": "72dffe17",
   "metadata": {},
   "outputs": [],
   "source": [
    "#Create a function to separete the in 2 lits, one for the ones who smoke and the ones that don't\n",
    "fumador_seguro = []\n",
    "N_fumador_seguro = []\n",
    "for i in fumador_seguro_list:\n",
    "    for j in i:\n",
    "        if j == 'yes':\n",
    "            fumador_seguro.append(i)\n",
    "        elif j == 'no':\n",
    "            N_fumador_seguro.append(i)"
   ]
  },
  {
   "cell_type": "code",
   "execution_count": 47,
   "id": "5ae390ec",
   "metadata": {},
   "outputs": [],
   "source": [
    "#Create a function using the lists created above as parameters, to calculate the average health insurance cost for smoker's and not smoker's\n",
    "def analise_fumador_seguro(matrix,i):\n",
    "    fumador_ind = [row[i] for row in matrix]\n",
    "    total = 0\n",
    "    for i in fumador_ind:\n",
    "        total += float(i)\n",
    "    media = total / num_group\n",
    "    return(round(media,2))\n",
    "media_fumador_seguro = analise_fumador_seguro(fumador_seguro,1)\n",
    "media_N_fumador_seguro = analise_fumador_seguro(N_fumador_seguro,1)"
   ]
  },
  {
   "cell_type": "code",
   "execution_count": 48,
   "id": "635c3ed1",
   "metadata": {},
   "outputs": [
    {
     "name": "stdout",
     "output_type": "stream",
     "text": [
      "The average health insurance for individuals who smoke is 6563.35$ and individuals who don´t is 6707.07$.\n"
     ]
    }
   ],
   "source": [
    "print(\"The average health insurance for individuals who smoke is \" + str(media_fumador_seguro) + \"$ and individuals who don´t is \" + str(media_N_fumador_seguro) + \"$.\")"
   ]
  },
  {
   "cell_type": "code",
   "execution_count": 57,
   "id": "e563c5e1",
   "metadata": {},
   "outputs": [],
   "source": [
    "#Creating a 2D list to with the insurance_charges values and the bmis values\n",
    "bmi_seguro_list = list(zip(bmis,insurance_charges))"
   ]
  },
  {
   "cell_type": "code",
   "execution_count": 63,
   "id": "75d604c7",
   "metadata": {},
   "outputs": [],
   "source": [
    "#Create a function to separete the in 2 lits, for each BMI level\n",
    "bmi_underweight_seguro = []\n",
    "bmi_normal_seguro = []\n",
    "bmi_overweight_seguro = []\n",
    "bmi_obese_seguro = []\n",
    "for i in bmi_seguro_list:\n",
    "    for j in i:\n",
    "        if float(j) < 18.5:\n",
    "            bmi_underweight_seguro.append(i)\n",
    "        elif (float(j) >= 18.5 and float(j) <= 24.9):\n",
    "            bmi_normal_seguro.append(i)\n",
    "        elif (float(j) >= 25 and float(j) <= 29.9):\n",
    "            bmi_overweight_seguro.append(i)\n",
    "        elif float(j) >= 30.0 :\n",
    "            bmi_obese_seguro.append(i)        "
   ]
  },
  {
   "cell_type": "code",
   "execution_count": 66,
   "id": "3d78900c",
   "metadata": {},
   "outputs": [],
   "source": [
    "#Create a function using the lists created above as parameters, to calculate the average health insurance cost for the different levels of the BMI's classification\n",
    "\n",
    "def analise_bmi_seguro(matrix,i):\n",
    "    bmi_ind = [row[i] for row in matrix]\n",
    "    total = 0\n",
    "    for i in bmi_ind:\n",
    "        total += float(i)\n",
    "    media = total / num_group\n",
    "    return(round(media,2))\n",
    "media_bmi_underweight_seguro = analise_bmi_seguro(bmi_underweight_seguro,1)\n",
    "media_bmi_normal_seguro = analise_bmi_seguro(bmi_normal_seguro,1)\n",
    "media_bmi_overweight_seguro = analise_bmi_seguro(bmi_overweight_seguro,1)\n",
    "media_bmi_obese_seguro = analise_bmi_seguro(bmi_obese_seguro,1)"
   ]
  },
  {
   "cell_type": "code",
   "execution_count": 69,
   "id": "6b75ed78",
   "metadata": {},
   "outputs": [
    {
     "name": "stdout",
     "output_type": "stream",
     "text": [
      "The average health insurance cost for people who are underweight is  132.32$, for people who have a normal BMI is 1722.16$, for people who are overweight is 3097.71$ and who is obese the average is 21488.29$.\n"
     ]
    }
   ],
   "source": [
    "print(\"The average health insurance cost for people who are underweight is  \" + str(media_bmi_underweight_seguro) + \"$, for people who have a normal BMI is \" + str(media_bmi_normal_seguro) + \"$, for people who are overweight is \" + str(media_bmi_overweight_seguro) + \"$ and who is obese the average is \" + str(media_bmi_obese_seguro) + \"$.\")\n",
    "      \n",
    "      "
   ]
  },
  {
   "cell_type": "code",
   "execution_count": 72,
   "id": "8fa6c3a6",
   "metadata": {},
   "outputs": [],
   "source": [
    "#Creating a 2D list to with the insurance_charges values of the different regions\n",
    "regions_seguro_list = list(zip(regions,insurance_charges))"
   ]
  },
  {
   "cell_type": "code",
   "execution_count": 73,
   "id": "fcae6092",
   "metadata": {},
   "outputs": [],
   "source": [
    "#Create a function to separete the in 2 lits, for each region\n",
    "northwest_seguro = []\n",
    "northeast_seguro = []\n",
    "southwest_seguro = []\n",
    "southeast_seguro = []\n",
    "for i in regions_seguro_list:\n",
    "    for j in i:\n",
    "        if j == 'northwest':\n",
    "            northwest_seguro.append(i)\n",
    "        elif j == 'northeast':\n",
    "            northeast_seguro.append(i)\n",
    "        elif j == 'southwest':\n",
    "            southwest_seguro.append(i)\n",
    "        elif j == 'southeast':\n",
    "            southeast_seguro.append(i)\n",
    "    "
   ]
  },
  {
   "cell_type": "code",
   "execution_count": 74,
   "id": "de13d60b",
   "metadata": {},
   "outputs": [],
   "source": [
    "#Create a function using the lists created above as parameters, to calculate the average health insurance cost for the different regions\n",
    "def analise_region_seguro(matrix,i):\n",
    "    region_ind =[row[i] for row in matrix]\n",
    "    total = 0\n",
    "    for i in region_ind:\n",
    "        total += float(i)\n",
    "    media = total / num_group\n",
    "    return(round(media,2))\n",
    "media_northwest_seguro = analise_region_seguro(northwest_seguro,1)\n",
    "media_northeast_seguro = analise_region_seguro(northeast_seguro,1)\n",
    "media_southwest_seguro = analise_region_seguro(southwest_seguro,1)\n",
    "media_southeast_seguro = analise_region_seguro(southeast_seguro,1)"
   ]
  },
  {
   "cell_type": "code",
   "execution_count": 76,
   "id": "b33e159d",
   "metadata": {
    "scrolled": true
   },
   "outputs": [
    {
     "name": "stdout",
     "output_type": "stream",
     "text": [
      "The average health insurance cost for the individuals who live in northwest is 3016.23$, in northeast is 3246.39$, in southwest is 2999.07$ and in southeast is 4008.74$.\n"
     ]
    }
   ],
   "source": [
    "print(\"The average health insurance cost for the individuals who live in northwest is \" + str(media_northwest_seguro) + \"$, in northeast is \" + str(media_northeast_seguro) + \"$, in southwest is \" + str(media_southwest_seguro) + \"$ and in southeast is \" + str(media_southeast_seguro) + \"$.\")"
   ]
  },
  {
   "cell_type": "code",
   "execution_count": 78,
   "id": "76d3f267",
   "metadata": {},
   "outputs": [],
   "source": [
    "#Creating 2D lists with the insurance_charges values and the number of childers\n",
    "filhos_seguro_list = list(zip(num_children,insurance_charges))"
   ]
  },
  {
   "cell_type": "code",
   "execution_count": 79,
   "id": "42462cce",
   "metadata": {},
   "outputs": [],
   "source": [
    "#Create a function to separete the in 2 lits, for each number of child from 0 to 4 childrens\n",
    "filhos0_seguro = []\n",
    "filhos1_seguro = []\n",
    "filhos2_seguro = []\n",
    "filhos3_seguro = []\n",
    "filhos4_seguro = []\n",
    "for i in filhos_seguro_list:\n",
    "    for j in i:\n",
    "        if j == '0':\n",
    "            filhos0_seguro.append(i)\n",
    "        elif j == '1':\n",
    "            filhos1_seguro.append(i)\n",
    "        elif j == '2':\n",
    "            filhos2_seguro.append(i)\n",
    "        elif j == '3':\n",
    "            filhos3_seguro.append(i)\n",
    "        elif j == '4':\n",
    "            filhos4_seguro.append(i)"
   ]
  },
  {
   "cell_type": "code",
   "execution_count": 80,
   "id": "ea4dd7e2",
   "metadata": {},
   "outputs": [],
   "source": [
    "#Create a function using the lists created above as parameters, to calculate the average health insurance cost for each number of childrens\n",
    "\n",
    "def analise_filhos_seguro(matrix,i):\n",
    "    filhos_ind =[row[i] for row in matrix]\n",
    "    total = 0\n",
    "    for i in filhos_ind:\n",
    "        total += float(i)\n",
    "    media = total / num_group\n",
    "    return(round(media,2))\n",
    "media_filhos0_seguro = analise_filhos_seguro(filhos0_seguro,1)\n",
    "media_filhos1_seguro = analise_filhos_seguro(filhos1_seguro,1)\n",
    "media_filhos2_seguro = analise_filhos_seguro(filhos2_seguro,1)\n",
    "media_filhos3_seguro = analise_filhos_seguro(filhos3_seguro,1)\n",
    "media_filhos4_seguro = analise_filhos_seguro(filhos4_seguro,1)"
   ]
  },
  {
   "cell_type": "code",
   "execution_count": 82,
   "id": "dd49af9f",
   "metadata": {},
   "outputs": [
    {
     "name": "stdout",
     "output_type": "stream",
     "text": [
      "The average health insurance cost for individuals who have 0 childrens is  5304.99$, with 1 child is 3082.88$, with 2 childrens is 2703.78$, with 3 childrens is 1801.78$ and with 4 childrens is 258.79$.\n"
     ]
    }
   ],
   "source": [
    "\n",
    "print(\"The average health insurance cost for individuals who have 0 childrens is  \" + str(media_filhos0_seguro) + \"$, with 1 child is \" + str(media_filhos1_seguro) + \"$, with 2 childrens is \" + str(media_filhos2_seguro) + \"$, with 3 childrens is \" + str(media_filhos3_seguro) + \"$ and with 4 childrens is \" + str(media_filhos4_seguro) + \"$.\")"
   ]
  }
 ],
 "metadata": {
  "kernelspec": {
   "display_name": "Python 3 (ipykernel)",
   "language": "python",
   "name": "python3"
  },
  "language_info": {
   "codemirror_mode": {
    "name": "ipython",
    "version": 3
   },
   "file_extension": ".py",
   "mimetype": "text/x-python",
   "name": "python",
   "nbconvert_exporter": "python",
   "pygments_lexer": "ipython3",
   "version": "3.9.12"
  }
 },
 "nbformat": 4,
 "nbformat_minor": 5
}
